{
 "cells": [
  {
   "cell_type": "markdown",
   "id": "720d4700",
   "metadata": {},
   "source": [
    "# API back-calculating\n",
    "\n",
    "Example: Alaska North Slope [2015]\n",
    "\n",
    "https://adios.orr.noaa.gov/oils/EC02713\n",
    "\n",
    "Provided API: 31.3\n",
    "\n",
    "|Density     | Temperature |\n",
    "|------------|-------------|\n",
    "|0.864 g/cm³ | 15 °C       |\n",
    "|0.875 g/cm³ | 0 °C        |"
   ]
  },
  {
   "cell_type": "code",
   "execution_count": 1,
   "id": "d3a4d864",
   "metadata": {},
   "outputs": [],
   "source": [
    "rho_water_60 = 0.99902"
   ]
  },
  {
   "cell_type": "code",
   "execution_count": 2,
   "id": "13c4548e",
   "metadata": {},
   "outputs": [
    {
     "name": "stdout",
     "output_type": "stream",
     "text": [
      "SG_60=0.8691646191646191\n",
      "density at 60F (15.56C) as computed from API: 0.868 g/cm^3\n"
     ]
    }
   ],
   "source": [
    "API = 31.3\n",
    "SG_60 = 141.5 / (API + 131.5)\n",
    "print(f\"{SG_60=}\")\n",
    "rho_oil_60 = rho_water_60 * SG_60 \n",
    "\n",
    "print(f\"density at 60F (15.56C) as computed from API: {rho_oil_60:.3f} g/cm^3\")"
   ]
  },
  {
   "cell_type": "raw",
   "id": "eddce47d",
   "metadata": {},
   "source": [
    "So we can see that the API value corresponds to a density of 0.868, which is sightly greater, rather than slightly less, than the density at 15C."
   ]
  },
  {
   "cell_type": "code",
   "execution_count": null,
   "id": "df5728e2",
   "metadata": {},
   "outputs": [],
   "source": []
  }
 ],
 "metadata": {
  "kernelspec": {
   "display_name": "Python 3 (ipykernel)",
   "language": "python",
   "name": "python3"
  },
  "language_info": {
   "codemirror_mode": {
    "name": "ipython",
    "version": 3
   },
   "file_extension": ".py",
   "mimetype": "text/x-python",
   "name": "python",
   "nbconvert_exporter": "python",
   "pygments_lexer": "ipython3",
   "version": "3.9.6"
  }
 },
 "nbformat": 4,
 "nbformat_minor": 5
}
