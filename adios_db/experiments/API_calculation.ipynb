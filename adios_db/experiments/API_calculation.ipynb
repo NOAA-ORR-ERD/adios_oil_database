{
 "cells": [
  {
   "cell_type": "markdown",
   "id": "d6b0dc1e",
   "metadata": {},
   "source": [
    "# API calculation check\n",
    "\n",
    "We've discovered a discrepancy between our (NOAA ERD) calculation of API from desnity, and the one done by the ESTS lab.\n",
    "\n",
    "This notebook is exploring that difference.\n",
    "\n",
    "NOTE that NOAA's API calculation is distict code in two place:\n",
    "\n",
    "Conversion from density to API is in the nucos code:\n",
    "\n",
    "https://github.com/NOAA-ORR-ERD/PyNUCOS\n",
    "\n",
    "(Note that specific gravity at 15C is computed separately from API as well, also in the NUCOS code -- note that the latest version of NUCOS (2.11) uses a slightly different value for the density of water at 60F -- but only in the fourth digit. It now uses the ASTM D1250)\n",
    "\n",
    "The density interpolation / extrapolation is in the adios_db code, in:\n",
    "\n",
    "`adios_db/computation/physical_properties.py`\n",
    "\n",
    "(https://github.com/NOAA-ORR-ERD/adios_oil_database)\n",
    "\n",
    "The only difference between the NOAA and the ECCC method is that NOAA uses a linear extrapolation for density as a function of temperature, and ECCC uses an exponential. In this case, we are extrapoling from 15C to 15.56C, which is a very small difference.\n",
    "\n",
    "\n",
    "## The issue\n",
    "\n",
    "This came up because we discovered that the calculation of API in the adios_db didn't match the value provided by Env CA. One example:\n",
    "\n",
    "(from our validation code)\n",
    "\n",
    "`EC02234` -- Access West Blend Winter:\n",
    "\n",
    "    E043: API, 20.9 does not match density at 60F. API should be: 21.4\n",
    "\n",
    "(note that our ID, EC02234 is based on your ID, which in this case is 2234)\n",
    "\n",
    "The density, in this case, is:  0.925 g/cm³ at 15 °C\n",
    "\n",
    "Which if I convert to API gives me: API 21.43\n",
    "\n",
    "\n",
    "## The methods\n",
    "\n",
    "ECCC uses these formulas:\n",
    "\n",
    "Since we do not have the density value measured at 60 °F (15.56 °C), we calculate the API gravity at 60 °F by extrapolation from the density measurement at 0 and 15C using the following equations:\n",
    "\n",
    "API Gravity = $\\frac{141.5}{SG_{60}} - 131.5$\n",
    "\n",
    "Where $SG_{60}$ is the specific gravity of the oil at at 60F (15.56C)\n",
    "\n",
    "This is the standard definition of API gravity.\n",
    "\n",
    "$SG_{60}$ is the ratio of the density of the oil to density of fresh water, both at 60F\n",
    "\n",
    "$SG_{60} = \\frac{\\rho_{60-oil}}{\\rho_{60-water}}$\n",
    "\n",
    "However, there may not be a measurement of the density of oil at 60F. For instance, modern labs often use 15C as a standard, where 60F = 15.56C. To estimate the density at 15.56C, a slight extrapolation is required.\n",
    "\n",
    "The ECCC equation, when provided the density of oil at 0C and 15C:\n",
    "\n",
    "$SG_{60} = \\frac{ \\rho_{oil-0C} \\, \\cdot \\,\n",
    "                   \\exp{\\left(\\ln\\left(\\rho_{oil-15C}\\right) -\n",
    "                              \\ln\\left(\\rho_{oil-0C}\\right)\n",
    "                        \\right) \\cdot 15.65 }}\n",
    "                {\\rho_{water-15.56C}}$\n",
    "\n",
    "where $\\rho_{oil-0C}$ and $\\rho_{oil-15C}$ are the measured oil densities at 0°C and 15°C, respectively, and $\\rho_{water-15.56C}$ is the literature value for the density of water at 15.56 °C.\n",
    "\n",
    "ASTM D1250 defines $\\rho_{water-15.56C}$ as 999.016 $kg/m^3$\n",
    "\n",
    "ECCC is using a value of 0.99902 $g/cm^3$ same, rounded to 5 figures\n"
   ]
  },
  {
   "cell_type": "code",
   "execution_count": 1,
   "id": "5b3267b7",
   "metadata": {},
   "outputs": [],
   "source": [
    "from math import exp, log\n",
    "import matplotlib.pyplot as plt\n",
    "%matplotlib inline\n",
    "\n",
    "import numpy as np"
   ]
  },
  {
   "cell_type": "code",
   "execution_count": 2,
   "id": "a35e9537",
   "metadata": {},
   "outputs": [],
   "source": [
    "# some constants\n",
    "# The official density of water at 60 °F according to the 2008 edition of ASTM D1250\n",
    "# is 999.016 kg/m3 (found in Wikipedia)\n",
    "\n",
    "# rho_h2O_60F = .999016\n",
    "# rho_h2O_60F = 0.99898 # from: https://www.engineeringtoolbox.com/water-density-specific-weight-d_595.html\n",
    "rho_h2O_60F = 0.99902 # the value ECCC is using.\n"
   ]
  },
  {
   "cell_type": "code",
   "execution_count": 3,
   "id": "29a45d7e",
   "metadata": {},
   "outputs": [],
   "source": [
    "def ecc_density_to_API(rho_0, rho_15):\n",
    "    SG = ecc_specific_gravity(rho_0, rho_15)\n",
    "    API = ecc_API_from_SG_60F(SG)\n",
    "    return API\n",
    "\n",
    "def ecc_API_from_SG_60F(SG):\n",
    "    return  ((141.5 / SG) - 131.5)\n",
    "\n",
    "def ecc_specific_gravity(rho_0, rho_15):\n",
    "    return (rho_0 * (exp(log(rho_15) - log(rho_0) / 15 * 15.56))) / rho_h2O_60F\n",
    "        "
   ]
  },
  {
   "cell_type": "code",
   "execution_count": 4,
   "id": "b5b9d6de",
   "metadata": {},
   "outputs": [],
   "source": [
    "from adios_db.computation.physical_properties import Density\n",
    "import unit_conversion as uc  # the py_nucos library\n",
    "\n",
    "\n",
    "def noaa_density_to_API(rho_0, rho_15):\n",
    "    # density in kg/m^3, temp in K\n",
    "    density = Density([(rho_0 * 1000, 273.15),\n",
    "                       (rho_15 * 1000, 288.15)])\n",
    "    rho = density.at_temp(288.71556)  ## 60F in K\n",
    "    API = uc.convert(\"kg/m^3\", \"API\", rho)\n",
    "    return API\n"
   ]
  },
  {
   "cell_type": "code",
   "execution_count": 5,
   "id": "80491bf5",
   "metadata": {},
   "outputs": [
    {
     "name": "stdout",
     "output_type": "stream",
     "text": [
      "API from the ECCC equations: API=20.97\n",
      "API from the NOAA code: API=21.42\n"
     ]
    }
   ],
   "source": [
    "# An example, from EC02234: Access West Blend Winter\n",
    "  \n",
    "rho_0 = 0.94  # g/cm³\n",
    "rho_15 = 0.925  # g/cm³\n",
    "\n",
    "API = ecc_density_to_API(rho_0, rho_15)\n",
    "print(f\"API from the ECCC equations: {API=:.2f}\")\n",
    "\n",
    "API = noaa_density_to_API(rho_0, rho_15)\n",
    "print(f\"API from the NOAA code: {API=:.2f}\")\n"
   ]
  },
  {
   "cell_type": "markdown",
   "id": "6288e98c",
   "metadata": {},
   "source": [
    "The results are different, but not very different: In this example, 20.97 vs 21.43\n",
    "\n",
    "The API value in this record is provided as 20.9 - very close to the 20.97 I get with the ECCC method.\n",
    "\n",
    "So the difference is the extrapolation.\n",
    "\n",
    "See: https://adios.orr.noaa.gov/oils/EC02234\n",
    "\n",
    "However, I still don't get why it's as different as it is."
   ]
  },
  {
   "cell_type": "code",
   "execution_count": 6,
   "id": "3fd481c3",
   "metadata": {},
   "outputs": [],
   "source": [
    "# breaking out the calculation into parts:\n",
    "\n",
    "def ecc_density_to_API(rho_0, rho_15):\n",
    "    SG = ecc_specific_gravity(rho_0, rho_15)\n",
    "    API = ecc_API_from_SG_60F(SG)\n",
    "    return API\n",
    "\n",
    "def ecc_API_from_SG_60F(SG):\n",
    "    return  ((141.5 / SG) - 131.5)\n",
    "\n",
    "def ecc_specific_gravity(rho_0, rho_15):\n",
    "    return (rho_0 * (exp(log(rho_15) - log(rho_0) / 15 * 15.56))) / rho_h2O_60F\n",
    "\n",
    "def ecc_specific_gravity2(rho_0, rho_15):\n",
    "    return ecc_density_at_t(rho_0, rho_15, 15.56) / rho_h2O_60F\n",
    "\n",
    "def ecc_specific_gravity3(rho_0, rho_15):\n",
    "    return ecc_density_at_t2(rho_0, rho_15, 15.56) / rho_h2O_60F\n",
    "\n",
    "def ecc_density_at_t(rho_0, rho_15, t):\n",
    "    return (rho_0 * (exp(log(rho_15) - log(rho_0) / 15 * t)))\n",
    "\n",
    "def ecc_density_at_t2(rho_0, rho_15, t):\n",
    "    return exp(log(rho_0) + ((log(rho_15) - log(rho_0)) * t / 15.56))\n",
    "\n",
    "def ecc_density_to_API2(rho_0, rho_15):\n",
    "    SG = ecc_specific_gravity3(rho_0, rho_15)\n",
    "    API = ecc_API_from_SG_60F(SG)\n",
    "    return API\n",
    "\n",
    "assert ecc_specific_gravity(rho_0, rho_15) == ecc_specific_gravity2(rho_0, rho_15)\n",
    "    "
   ]
  },
  {
   "cell_type": "code",
   "execution_count": 7,
   "id": "e21328db",
   "metadata": {},
   "outputs": [
    {
     "data": {
      "text/plain": [
       "[<matplotlib.lines.Line2D at 0x180d37c40>,\n",
       " <matplotlib.lines.Line2D at 0x180d37e50>,\n",
       " <matplotlib.lines.Line2D at 0x180d37ee0>,\n",
       " <matplotlib.lines.Line2D at 0x180d37eb0>,\n",
       " <matplotlib.lines.Line2D at 0x180d4f0d0>]"
      ]
     },
     "execution_count": 7,
     "metadata": {},
     "output_type": "execute_result"
    },
    {
     "data": {
      "image/png": "[encoded data removed]",
      "text/plain": [
       "<Figure size 432x288 with 1 Axes>"
      ]
     },
     "metadata": {
      "needs_background": "light"
     },
     "output_type": "display_data"
    }
   ],
   "source": [
    "temps = np.linspace(0, 20)\n",
    "\n",
    "\n",
    "ecc_rho = [ecc_density_at_t(rho_0, rho_15, t) for t in temps]\n",
    "ecc_rho2 = [ecc_density_at_t2(rho_0, rho_15, t) for t in temps]\n",
    "\n",
    "density = Density([(rho_0 * 1000, 273.15),\n",
    "                   (rho_15 * 1000, 288.15)])\n",
    "noaa_rho = [density.at_temp(t + 273.15) / 1000 for t in temps]\n",
    "\n",
    "plt.plot((0.0, 15.0), (rho_0, rho_15), 'o',\n",
    "          temps, ecc_rho, '-',\n",
    "          temps, ecc_rho2, '-.',\n",
    "          temps, noaa_rho, '.',\n",
    "          15.56, ecc_density_at_t(rho_0, rho_15, 15.56), 'o',\n",
    "        )"
   ]
  },
  {
   "cell_type": "code",
   "execution_count": 8,
   "id": "370c28fa",
   "metadata": {},
   "outputs": [
    {
     "name": "stdout",
     "output_type": "stream",
     "text": [
      "API from the ECCC equations: API=20.97\n",
      "API from the corrected ECCC equations: API=21.32\n",
      "API from the NOAA code: API=21.42\n"
     ]
    }
   ],
   "source": [
    "# An example, from EC02234: Access West Blend Winter\n",
    "  \n",
    "rho_0 = 0.94  # g/cm³\n",
    "rho_15 = 0.925  # g/cm³\n",
    "\n",
    "API = ecc_density_to_API(rho_0, rho_15)\n",
    "print(f\"API from the ECCC equations: {API=:.2f}\")\n",
    "\n",
    "API = ecc_density_to_API2(rho_0, rho_15)\n",
    "print(f\"API from the corrected ECCC equations: {API=:.2f}\")\n",
    "\n",
    "API = noaa_density_to_API(rho_0, rho_15)\n",
    "print(f\"API from the NOAA code: {API=:.2f}\")"
   ]
  },
  {
   "cell_type": "code",
   "execution_count": null,
   "id": "28d11582",
   "metadata": {},
   "outputs": [],
   "source": []
  },
  {
   "cell_type": "code",
   "execution_count": null,
   "id": "c1fa6816",
   "metadata": {},
   "outputs": [],
   "source": []
  }
 ],
 "metadata": {
  "kernelspec": {
   "display_name": "Python 3 (ipykernel)",
   "language": "python",
   "name": "python3"
  },
  "language_info": {
   "codemirror_mode": {
    "name": "ipython",
    "version": 3
   },
   "file_extension": ".py",
   "mimetype": "text/x-python",
   "name": "python",
   "nbconvert_exporter": "python",
   "pygments_lexer": "ipython3",
   "version": "3.9.6"
  }
 },
 "nbformat": 4,
 "nbformat_minor": 5
}
